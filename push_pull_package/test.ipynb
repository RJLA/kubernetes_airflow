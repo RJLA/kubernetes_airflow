{
 "cells": [
  {
   "cell_type": "code",
   "execution_count": 1,
   "metadata": {},
   "outputs": [
    {
     "name": "stdout",
     "output_type": "stream",
     "text": [
      "[('pull_task_1', 'PullTaskA', 'pull_task_1'), ('pull_task_2', 'PullTaskA', 'pull_task_2'), ('pull_task_3', 'PullTaskB', 'pull_task_3'), ('pull_task_4', 'PullTaskB', 'pull_task_4')]\n"
     ]
    }
   ],
   "source": [
    "task_details = [\n",
    "    ('pull_task_1', 'PullTaskA', 'pull_task_1'),\n",
    "    ('pull_task_2', 'PullTaskA', 'pull_task_2'),\n",
    "    ('pull_task_3', 'PullTaskB', 'pull_task_3'),\n",
    "    ('pull_task_4', 'PullTaskB', 'pull_task_4'),\n",
    "]\n",
    "\n",
    "tasks = [details for details in task_details]\n",
    "print(tasks)"
   ]
  },
  {
   "cell_type": "code",
   "execution_count": 2,
   "metadata": {},
   "outputs": [
    {
     "data": {
      "text/plain": [
       "('pull_task_1', 'PullTaskA', 'pull_task_1')"
      ]
     },
     "execution_count": 2,
     "metadata": {},
     "output_type": "execute_result"
    }
   ],
   "source": [
    "tasks[0]"
   ]
  },
  {
   "cell_type": "code",
   "execution_count": 10,
   "metadata": {},
   "outputs": [
    {
     "name": "stderr",
     "output_type": "stream",
     "text": [
      "INFO:root:pull_function_1() executed\n",
      "INFO:root:pull_function_2() executed\n"
     ]
    }
   ],
   "source": [
    "import logging\n",
    "logging.basicConfig(level=logging.INFO)\n",
    "\n",
    "class PullClassA:\n",
    "    def __init__(self):\n",
    "        pass\n",
    "    def pull_function_1(self):\n",
    "        output = 'pull_function_1() executed'\n",
    "        logging.info(output)\n",
    "        return output\n",
    "    \n",
    "    def pull_function_2(self, pull_function_1_output):\n",
    "        if pull_function_1_output:\n",
    "            output = 'pull_function_2() executed'\n",
    "            logging.info(output)\n",
    "            return output\n",
    "\n",
    "pca = PullClassA()\n",
    "output_1 = pca.pull_function_1()\n",
    "output_2 = pca.pull_function_2(output_1)"
   ]
  },
  {
   "cell_type": "code",
   "execution_count": 13,
   "metadata": {},
   "outputs": [
    {
     "name": "stderr",
     "output_type": "stream",
     "text": [
      "INFO:root:pull_function_3() executed\n",
      "INFO:root:pull_function_4() executed\n"
     ]
    }
   ],
   "source": [
    "import logging\n",
    "logging.basicConfig(level=logging.INFO)\n",
    "\n",
    "class PullClassB:\n",
    "    def __init__(self):\n",
    "        pass\n",
    "    def pull_function_3(self, pull_function_2_output):\n",
    "        if pull_function_2_output:\n",
    "            output = 'pull_function_3() executed'\n",
    "            logging.info(output)\n",
    "            return output\n",
    "    def pull_function_4(self, pull_function_3_output):\n",
    "        if pull_function_3_output:\n",
    "            output = 'pull_function_4() executed'\n",
    "            logging.info(output)\n",
    "\n",
    "pcb = PullClassB()\n",
    "output_3 = pcb.pull_function_3(output_2)\n",
    "pcb.pull_function_4(output_3)"
   ]
  },
  {
   "cell_type": "code",
   "execution_count": 14,
   "metadata": {},
   "outputs": [
    {
     "data": {
      "text/plain": [
       "'from pull_functions.pull_class_a import PullClassA; pa = PullClassA(); pa.pull_task_1();'"
      ]
     },
     "execution_count": 14,
     "metadata": {},
     "output_type": "execute_result"
    }
   ],
   "source": [
    "list_of_tasks = [\n",
    "    \"from pull_functions.pull_class_a import PullClassA; pa = PullClassA(); pa.pull_task_1();\",\n",
    "    \"from pull_functions.pull_class_a import PullClassA; pa = PullClassA(); pa.pull_task_2();\",\n",
    "    \"from pull_functions.pull_class_b import PullClassB; pb = PullClassB(); pb.pull_task_3();\",\n",
    "    \"from pull_functions.pull_class_b import PullClassB; pb = PullClassB(); pb.pull_task_4();\",\n",
    "    ]\n",
    "\n",
    "\n",
    "list_of_tasks[0]"
   ]
  },
  {
   "cell_type": "code",
   "execution_count": null,
   "metadata": {},
   "outputs": [],
   "source": []
  }
 ],
 "metadata": {
  "kernelspec": {
   "display_name": "airflow_env",
   "language": "python",
   "name": "python3"
  },
  "language_info": {
   "codemirror_mode": {
    "name": "ipython",
    "version": 3
   },
   "file_extension": ".py",
   "mimetype": "text/x-python",
   "name": "python",
   "nbconvert_exporter": "python",
   "pygments_lexer": "ipython3",
   "version": "3.9.17"
  }
 },
 "nbformat": 4,
 "nbformat_minor": 2
}
